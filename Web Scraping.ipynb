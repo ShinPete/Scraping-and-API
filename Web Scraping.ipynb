{
 "cells": [
  {
   "cell_type": "code",
   "execution_count": null,
   "metadata": {},
   "outputs": [],
   "source": [
    "API Key: U4XHL332J7SFF57W"
   ]
  },
  {
   "cell_type": "code",
   "execution_count": 1,
   "metadata": {},
   "outputs": [],
   "source": [
    "import pandas as pd\n",
    "import matplotlib.pyplot as plt\n",
    "import seaborn as sns"
   ]
  },
  {
   "cell_type": "code",
   "execution_count": 2,
   "metadata": {},
   "outputs": [],
   "source": [
    "sns.set(rc={'figure.figsize':(15,10)})\n"
   ]
  },
  {
   "cell_type": "code",
   "execution_count": 3,
   "metadata": {},
   "outputs": [],
   "source": [
    "from alpha_vantage.timeseries import TimeSeries\n",
    "ts = TimeSeries(key='U4XHL332J7SFF57W', output_format='pandas')\n",
    "# Get json object with the intraday data and another with  the call's metadata\n",
    "data, meta_data = ts.get_intraday('MSFT')"
   ]
  },
  {
   "cell_type": "code",
   "execution_count": 4,
   "metadata": {
    "scrolled": true
   },
   "outputs": [
    {
     "data": {
      "text/html": [
       "<div>\n",
       "<style scoped>\n",
       "    .dataframe tbody tr th:only-of-type {\n",
       "        vertical-align: middle;\n",
       "    }\n",
       "\n",
       "    .dataframe tbody tr th {\n",
       "        vertical-align: top;\n",
       "    }\n",
       "\n",
       "    .dataframe thead th {\n",
       "        text-align: right;\n",
       "    }\n",
       "</style>\n",
       "<table border=\"1\" class=\"dataframe\">\n",
       "  <thead>\n",
       "    <tr style=\"text-align: right;\">\n",
       "      <th></th>\n",
       "      <th>1. open</th>\n",
       "      <th>2. high</th>\n",
       "      <th>3. low</th>\n",
       "      <th>4. close</th>\n",
       "      <th>5. volume</th>\n",
       "    </tr>\n",
       "    <tr>\n",
       "      <th>date</th>\n",
       "      <th></th>\n",
       "      <th></th>\n",
       "      <th></th>\n",
       "      <th></th>\n",
       "      <th></th>\n",
       "    </tr>\n",
       "  </thead>\n",
       "  <tbody>\n",
       "    <tr>\n",
       "      <th>2019-06-20 10:45:00</th>\n",
       "      <td>136.6600</td>\n",
       "      <td>136.8000</td>\n",
       "      <td>136.5500</td>\n",
       "      <td>136.6950</td>\n",
       "      <td>879262.0</td>\n",
       "    </tr>\n",
       "    <tr>\n",
       "      <th>2019-06-20 11:00:00</th>\n",
       "      <td>136.6950</td>\n",
       "      <td>136.8600</td>\n",
       "      <td>136.2800</td>\n",
       "      <td>136.3550</td>\n",
       "      <td>1045854.0</td>\n",
       "    </tr>\n",
       "    <tr>\n",
       "      <th>2019-06-20 11:15:00</th>\n",
       "      <td>136.3600</td>\n",
       "      <td>136.8700</td>\n",
       "      <td>136.3300</td>\n",
       "      <td>136.7750</td>\n",
       "      <td>716235.0</td>\n",
       "    </tr>\n",
       "    <tr>\n",
       "      <th>2019-06-20 11:30:00</th>\n",
       "      <td>136.7800</td>\n",
       "      <td>136.8100</td>\n",
       "      <td>136.4300</td>\n",
       "      <td>136.6176</td>\n",
       "      <td>671934.0</td>\n",
       "    </tr>\n",
       "    <tr>\n",
       "      <th>2019-06-20 11:45:00</th>\n",
       "      <td>136.6200</td>\n",
       "      <td>136.7700</td>\n",
       "      <td>136.4900</td>\n",
       "      <td>136.7500</td>\n",
       "      <td>662912.0</td>\n",
       "    </tr>\n",
       "    <tr>\n",
       "      <th>2019-06-20 12:00:00</th>\n",
       "      <td>136.7400</td>\n",
       "      <td>136.8800</td>\n",
       "      <td>136.6700</td>\n",
       "      <td>136.6900</td>\n",
       "      <td>514914.0</td>\n",
       "    </tr>\n",
       "    <tr>\n",
       "      <th>2019-06-20 12:15:00</th>\n",
       "      <td>136.6900</td>\n",
       "      <td>136.7300</td>\n",
       "      <td>135.9200</td>\n",
       "      <td>135.9200</td>\n",
       "      <td>798011.0</td>\n",
       "    </tr>\n",
       "    <tr>\n",
       "      <th>2019-06-20 12:30:00</th>\n",
       "      <td>135.9200</td>\n",
       "      <td>136.2100</td>\n",
       "      <td>135.7650</td>\n",
       "      <td>136.1500</td>\n",
       "      <td>1078421.0</td>\n",
       "    </tr>\n",
       "    <tr>\n",
       "      <th>2019-06-20 12:45:00</th>\n",
       "      <td>136.1300</td>\n",
       "      <td>136.3450</td>\n",
       "      <td>135.9400</td>\n",
       "      <td>136.1350</td>\n",
       "      <td>1728072.0</td>\n",
       "    </tr>\n",
       "    <tr>\n",
       "      <th>2019-06-20 13:00:00</th>\n",
       "      <td>136.1400</td>\n",
       "      <td>136.1600</td>\n",
       "      <td>135.8500</td>\n",
       "      <td>136.0048</td>\n",
       "      <td>530109.0</td>\n",
       "    </tr>\n",
       "    <tr>\n",
       "      <th>2019-06-20 13:15:00</th>\n",
       "      <td>136.0100</td>\n",
       "      <td>136.0500</td>\n",
       "      <td>135.7900</td>\n",
       "      <td>135.9400</td>\n",
       "      <td>492686.0</td>\n",
       "    </tr>\n",
       "    <tr>\n",
       "      <th>2019-06-20 13:30:00</th>\n",
       "      <td>135.9550</td>\n",
       "      <td>136.3000</td>\n",
       "      <td>135.8900</td>\n",
       "      <td>136.2750</td>\n",
       "      <td>460702.0</td>\n",
       "    </tr>\n",
       "    <tr>\n",
       "      <th>2019-06-20 13:45:00</th>\n",
       "      <td>136.2800</td>\n",
       "      <td>136.3200</td>\n",
       "      <td>136.0550</td>\n",
       "      <td>136.1201</td>\n",
       "      <td>476955.0</td>\n",
       "    </tr>\n",
       "    <tr>\n",
       "      <th>2019-06-20 14:00:00</th>\n",
       "      <td>136.1200</td>\n",
       "      <td>136.1899</td>\n",
       "      <td>135.9900</td>\n",
       "      <td>136.0100</td>\n",
       "      <td>449924.0</td>\n",
       "    </tr>\n",
       "    <tr>\n",
       "      <th>2019-06-20 14:15:00</th>\n",
       "      <td>136.0100</td>\n",
       "      <td>136.2500</td>\n",
       "      <td>135.9400</td>\n",
       "      <td>136.2100</td>\n",
       "      <td>530872.0</td>\n",
       "    </tr>\n",
       "    <tr>\n",
       "      <th>2019-06-20 14:30:00</th>\n",
       "      <td>136.1300</td>\n",
       "      <td>136.3381</td>\n",
       "      <td>136.1101</td>\n",
       "      <td>136.2600</td>\n",
       "      <td>604884.0</td>\n",
       "    </tr>\n",
       "    <tr>\n",
       "      <th>2019-06-20 14:45:00</th>\n",
       "      <td>136.2600</td>\n",
       "      <td>136.4400</td>\n",
       "      <td>136.2300</td>\n",
       "      <td>136.3800</td>\n",
       "      <td>406613.0</td>\n",
       "    </tr>\n",
       "    <tr>\n",
       "      <th>2019-06-20 15:00:00</th>\n",
       "      <td>136.3800</td>\n",
       "      <td>136.5750</td>\n",
       "      <td>136.3750</td>\n",
       "      <td>136.5550</td>\n",
       "      <td>459997.0</td>\n",
       "    </tr>\n",
       "    <tr>\n",
       "      <th>2019-06-20 15:15:00</th>\n",
       "      <td>136.5700</td>\n",
       "      <td>136.6800</td>\n",
       "      <td>136.3625</td>\n",
       "      <td>136.6650</td>\n",
       "      <td>1698203.0</td>\n",
       "    </tr>\n",
       "    <tr>\n",
       "      <th>2019-06-20 15:30:00</th>\n",
       "      <td>136.6700</td>\n",
       "      <td>136.9000</td>\n",
       "      <td>136.6199</td>\n",
       "      <td>136.8450</td>\n",
       "      <td>719828.0</td>\n",
       "    </tr>\n",
       "    <tr>\n",
       "      <th>2019-06-20 15:45:00</th>\n",
       "      <td>136.8450</td>\n",
       "      <td>137.0100</td>\n",
       "      <td>136.7550</td>\n",
       "      <td>136.9800</td>\n",
       "      <td>830469.0</td>\n",
       "    </tr>\n",
       "    <tr>\n",
       "      <th>2019-06-20 16:00:00</th>\n",
       "      <td>136.9800</td>\n",
       "      <td>137.3100</td>\n",
       "      <td>136.8400</td>\n",
       "      <td>136.8900</td>\n",
       "      <td>3119158.0</td>\n",
       "    </tr>\n",
       "    <tr>\n",
       "      <th>2019-06-21 09:45:00</th>\n",
       "      <td>136.5800</td>\n",
       "      <td>136.9400</td>\n",
       "      <td>136.4600</td>\n",
       "      <td>136.7600</td>\n",
       "      <td>1647331.0</td>\n",
       "    </tr>\n",
       "    <tr>\n",
       "      <th>2019-06-21 10:00:00</th>\n",
       "      <td>136.7500</td>\n",
       "      <td>136.9900</td>\n",
       "      <td>136.6100</td>\n",
       "      <td>136.9900</td>\n",
       "      <td>919157.0</td>\n",
       "    </tr>\n",
       "    <tr>\n",
       "      <th>2019-06-21 10:15:00</th>\n",
       "      <td>137.0000</td>\n",
       "      <td>137.3820</td>\n",
       "      <td>136.9100</td>\n",
       "      <td>137.1950</td>\n",
       "      <td>1103536.0</td>\n",
       "    </tr>\n",
       "    <tr>\n",
       "      <th>2019-06-21 10:30:00</th>\n",
       "      <td>137.2000</td>\n",
       "      <td>137.2300</td>\n",
       "      <td>136.8000</td>\n",
       "      <td>137.0050</td>\n",
       "      <td>746770.0</td>\n",
       "    </tr>\n",
       "    <tr>\n",
       "      <th>2019-06-21 10:45:00</th>\n",
       "      <td>137.0100</td>\n",
       "      <td>137.3000</td>\n",
       "      <td>136.9700</td>\n",
       "      <td>137.2400</td>\n",
       "      <td>991115.0</td>\n",
       "    </tr>\n",
       "    <tr>\n",
       "      <th>2019-06-21 11:00:00</th>\n",
       "      <td>137.2500</td>\n",
       "      <td>137.4700</td>\n",
       "      <td>137.1750</td>\n",
       "      <td>137.1800</td>\n",
       "      <td>850456.0</td>\n",
       "    </tr>\n",
       "    <tr>\n",
       "      <th>2019-06-21 11:15:00</th>\n",
       "      <td>137.1900</td>\n",
       "      <td>137.7300</td>\n",
       "      <td>137.1750</td>\n",
       "      <td>137.6100</td>\n",
       "      <td>1314272.0</td>\n",
       "    </tr>\n",
       "    <tr>\n",
       "      <th>2019-06-21 11:30:00</th>\n",
       "      <td>137.6100</td>\n",
       "      <td>137.6300</td>\n",
       "      <td>137.2631</td>\n",
       "      <td>137.3900</td>\n",
       "      <td>542207.0</td>\n",
       "    </tr>\n",
       "    <tr>\n",
       "      <th>...</th>\n",
       "      <td>...</td>\n",
       "      <td>...</td>\n",
       "      <td>...</td>\n",
       "      <td>...</td>\n",
       "      <td>...</td>\n",
       "    </tr>\n",
       "    <tr>\n",
       "      <th>2019-06-24 15:15:00</th>\n",
       "      <td>137.8200</td>\n",
       "      <td>137.8868</td>\n",
       "      <td>137.6599</td>\n",
       "      <td>137.7424</td>\n",
       "      <td>398326.0</td>\n",
       "    </tr>\n",
       "    <tr>\n",
       "      <th>2019-06-24 15:30:00</th>\n",
       "      <td>137.7500</td>\n",
       "      <td>137.8000</td>\n",
       "      <td>137.6300</td>\n",
       "      <td>137.7356</td>\n",
       "      <td>454801.0</td>\n",
       "    </tr>\n",
       "    <tr>\n",
       "      <th>2019-06-24 15:45:00</th>\n",
       "      <td>137.7400</td>\n",
       "      <td>137.9100</td>\n",
       "      <td>137.7100</td>\n",
       "      <td>137.8850</td>\n",
       "      <td>541803.0</td>\n",
       "    </tr>\n",
       "    <tr>\n",
       "      <th>2019-06-24 16:00:00</th>\n",
       "      <td>137.8831</td>\n",
       "      <td>138.0000</td>\n",
       "      <td>137.7200</td>\n",
       "      <td>137.8000</td>\n",
       "      <td>1776167.0</td>\n",
       "    </tr>\n",
       "    <tr>\n",
       "      <th>2019-06-25 09:45:00</th>\n",
       "      <td>137.2500</td>\n",
       "      <td>137.5900</td>\n",
       "      <td>136.5300</td>\n",
       "      <td>136.6550</td>\n",
       "      <td>2277386.0</td>\n",
       "    </tr>\n",
       "    <tr>\n",
       "      <th>2019-06-25 10:00:00</th>\n",
       "      <td>136.6700</td>\n",
       "      <td>136.7600</td>\n",
       "      <td>136.0600</td>\n",
       "      <td>136.2200</td>\n",
       "      <td>1364295.0</td>\n",
       "    </tr>\n",
       "    <tr>\n",
       "      <th>2019-06-25 10:15:00</th>\n",
       "      <td>136.2300</td>\n",
       "      <td>136.2800</td>\n",
       "      <td>135.6500</td>\n",
       "      <td>135.8300</td>\n",
       "      <td>1198497.0</td>\n",
       "    </tr>\n",
       "    <tr>\n",
       "      <th>2019-06-25 10:30:00</th>\n",
       "      <td>135.8250</td>\n",
       "      <td>135.8300</td>\n",
       "      <td>135.3600</td>\n",
       "      <td>135.6000</td>\n",
       "      <td>1738077.0</td>\n",
       "    </tr>\n",
       "    <tr>\n",
       "      <th>2019-06-25 10:45:00</th>\n",
       "      <td>135.6100</td>\n",
       "      <td>135.7600</td>\n",
       "      <td>135.0700</td>\n",
       "      <td>135.2365</td>\n",
       "      <td>1324215.0</td>\n",
       "    </tr>\n",
       "    <tr>\n",
       "      <th>2019-06-25 11:00:00</th>\n",
       "      <td>135.2400</td>\n",
       "      <td>135.3300</td>\n",
       "      <td>134.5750</td>\n",
       "      <td>134.6552</td>\n",
       "      <td>1732557.0</td>\n",
       "    </tr>\n",
       "    <tr>\n",
       "      <th>2019-06-25 11:15:00</th>\n",
       "      <td>134.6600</td>\n",
       "      <td>135.0700</td>\n",
       "      <td>134.4700</td>\n",
       "      <td>135.0472</td>\n",
       "      <td>1086492.0</td>\n",
       "    </tr>\n",
       "    <tr>\n",
       "      <th>2019-06-25 11:30:00</th>\n",
       "      <td>135.0415</td>\n",
       "      <td>135.2100</td>\n",
       "      <td>134.8500</td>\n",
       "      <td>134.8900</td>\n",
       "      <td>927991.0</td>\n",
       "    </tr>\n",
       "    <tr>\n",
       "      <th>2019-06-25 11:45:00</th>\n",
       "      <td>134.9000</td>\n",
       "      <td>134.9500</td>\n",
       "      <td>134.6700</td>\n",
       "      <td>134.8923</td>\n",
       "      <td>578196.0</td>\n",
       "    </tr>\n",
       "    <tr>\n",
       "      <th>2019-06-25 12:00:00</th>\n",
       "      <td>134.8901</td>\n",
       "      <td>134.9100</td>\n",
       "      <td>134.5100</td>\n",
       "      <td>134.5300</td>\n",
       "      <td>590502.0</td>\n",
       "    </tr>\n",
       "    <tr>\n",
       "      <th>2019-06-25 12:15:00</th>\n",
       "      <td>134.5272</td>\n",
       "      <td>134.7300</td>\n",
       "      <td>134.5200</td>\n",
       "      <td>134.7200</td>\n",
       "      <td>678450.0</td>\n",
       "    </tr>\n",
       "    <tr>\n",
       "      <th>2019-06-25 12:30:00</th>\n",
       "      <td>134.5800</td>\n",
       "      <td>134.7000</td>\n",
       "      <td>134.4900</td>\n",
       "      <td>134.5400</td>\n",
       "      <td>643064.0</td>\n",
       "    </tr>\n",
       "    <tr>\n",
       "      <th>2019-06-25 12:45:00</th>\n",
       "      <td>134.5400</td>\n",
       "      <td>134.5800</td>\n",
       "      <td>133.7100</td>\n",
       "      <td>133.8100</td>\n",
       "      <td>1285987.0</td>\n",
       "    </tr>\n",
       "    <tr>\n",
       "      <th>2019-06-25 13:00:00</th>\n",
       "      <td>133.8100</td>\n",
       "      <td>134.0650</td>\n",
       "      <td>133.7700</td>\n",
       "      <td>133.9400</td>\n",
       "      <td>1039355.0</td>\n",
       "    </tr>\n",
       "    <tr>\n",
       "      <th>2019-06-25 13:15:00</th>\n",
       "      <td>133.9400</td>\n",
       "      <td>133.9900</td>\n",
       "      <td>133.4000</td>\n",
       "      <td>133.8850</td>\n",
       "      <td>1311494.0</td>\n",
       "    </tr>\n",
       "    <tr>\n",
       "      <th>2019-06-25 13:30:00</th>\n",
       "      <td>133.8900</td>\n",
       "      <td>133.9432</td>\n",
       "      <td>133.6700</td>\n",
       "      <td>133.9200</td>\n",
       "      <td>759559.0</td>\n",
       "    </tr>\n",
       "    <tr>\n",
       "      <th>2019-06-25 13:45:00</th>\n",
       "      <td>133.9200</td>\n",
       "      <td>134.2500</td>\n",
       "      <td>133.8500</td>\n",
       "      <td>134.1200</td>\n",
       "      <td>572847.0</td>\n",
       "    </tr>\n",
       "    <tr>\n",
       "      <th>2019-06-25 14:00:00</th>\n",
       "      <td>134.1200</td>\n",
       "      <td>134.2600</td>\n",
       "      <td>133.8100</td>\n",
       "      <td>133.8350</td>\n",
       "      <td>615094.0</td>\n",
       "    </tr>\n",
       "    <tr>\n",
       "      <th>2019-06-25 14:15:00</th>\n",
       "      <td>133.8332</td>\n",
       "      <td>133.9100</td>\n",
       "      <td>133.7600</td>\n",
       "      <td>133.8750</td>\n",
       "      <td>578951.0</td>\n",
       "    </tr>\n",
       "    <tr>\n",
       "      <th>2019-06-25 14:30:00</th>\n",
       "      <td>133.8750</td>\n",
       "      <td>133.8900</td>\n",
       "      <td>133.2200</td>\n",
       "      <td>133.3450</td>\n",
       "      <td>963475.0</td>\n",
       "    </tr>\n",
       "    <tr>\n",
       "      <th>2019-06-25 14:45:00</th>\n",
       "      <td>133.3400</td>\n",
       "      <td>133.4000</td>\n",
       "      <td>132.7300</td>\n",
       "      <td>132.8300</td>\n",
       "      <td>1267122.0</td>\n",
       "    </tr>\n",
       "    <tr>\n",
       "      <th>2019-06-25 15:00:00</th>\n",
       "      <td>132.8300</td>\n",
       "      <td>133.3100</td>\n",
       "      <td>132.7900</td>\n",
       "      <td>133.1850</td>\n",
       "      <td>839145.0</td>\n",
       "    </tr>\n",
       "    <tr>\n",
       "      <th>2019-06-25 15:15:00</th>\n",
       "      <td>133.2000</td>\n",
       "      <td>133.3700</td>\n",
       "      <td>132.9400</td>\n",
       "      <td>132.9901</td>\n",
       "      <td>883871.0</td>\n",
       "    </tr>\n",
       "    <tr>\n",
       "      <th>2019-06-25 15:30:00</th>\n",
       "      <td>132.9930</td>\n",
       "      <td>133.2900</td>\n",
       "      <td>132.9000</td>\n",
       "      <td>133.1800</td>\n",
       "      <td>959511.0</td>\n",
       "    </tr>\n",
       "    <tr>\n",
       "      <th>2019-06-25 15:45:00</th>\n",
       "      <td>133.1700</td>\n",
       "      <td>133.5050</td>\n",
       "      <td>133.1600</td>\n",
       "      <td>133.2550</td>\n",
       "      <td>1188757.0</td>\n",
       "    </tr>\n",
       "    <tr>\n",
       "      <th>2019-06-25 16:00:00</th>\n",
       "      <td>133.2550</td>\n",
       "      <td>133.6300</td>\n",
       "      <td>132.9100</td>\n",
       "      <td>133.4300</td>\n",
       "      <td>3133019.0</td>\n",
       "    </tr>\n",
       "  </tbody>\n",
       "</table>\n",
       "<p>100 rows × 5 columns</p>\n",
       "</div>"
      ],
      "text/plain": [
       "                      1. open   2. high    3. low  4. close  5. volume\n",
       "date                                                                  \n",
       "2019-06-20 10:45:00  136.6600  136.8000  136.5500  136.6950   879262.0\n",
       "2019-06-20 11:00:00  136.6950  136.8600  136.2800  136.3550  1045854.0\n",
       "2019-06-20 11:15:00  136.3600  136.8700  136.3300  136.7750   716235.0\n",
       "2019-06-20 11:30:00  136.7800  136.8100  136.4300  136.6176   671934.0\n",
       "2019-06-20 11:45:00  136.6200  136.7700  136.4900  136.7500   662912.0\n",
       "2019-06-20 12:00:00  136.7400  136.8800  136.6700  136.6900   514914.0\n",
       "2019-06-20 12:15:00  136.6900  136.7300  135.9200  135.9200   798011.0\n",
       "2019-06-20 12:30:00  135.9200  136.2100  135.7650  136.1500  1078421.0\n",
       "2019-06-20 12:45:00  136.1300  136.3450  135.9400  136.1350  1728072.0\n",
       "2019-06-20 13:00:00  136.1400  136.1600  135.8500  136.0048   530109.0\n",
       "2019-06-20 13:15:00  136.0100  136.0500  135.7900  135.9400   492686.0\n",
       "2019-06-20 13:30:00  135.9550  136.3000  135.8900  136.2750   460702.0\n",
       "2019-06-20 13:45:00  136.2800  136.3200  136.0550  136.1201   476955.0\n",
       "2019-06-20 14:00:00  136.1200  136.1899  135.9900  136.0100   449924.0\n",
       "2019-06-20 14:15:00  136.0100  136.2500  135.9400  136.2100   530872.0\n",
       "2019-06-20 14:30:00  136.1300  136.3381  136.1101  136.2600   604884.0\n",
       "2019-06-20 14:45:00  136.2600  136.4400  136.2300  136.3800   406613.0\n",
       "2019-06-20 15:00:00  136.3800  136.5750  136.3750  136.5550   459997.0\n",
       "2019-06-20 15:15:00  136.5700  136.6800  136.3625  136.6650  1698203.0\n",
       "2019-06-20 15:30:00  136.6700  136.9000  136.6199  136.8450   719828.0\n",
       "2019-06-20 15:45:00  136.8450  137.0100  136.7550  136.9800   830469.0\n",
       "2019-06-20 16:00:00  136.9800  137.3100  136.8400  136.8900  3119158.0\n",
       "2019-06-21 09:45:00  136.5800  136.9400  136.4600  136.7600  1647331.0\n",
       "2019-06-21 10:00:00  136.7500  136.9900  136.6100  136.9900   919157.0\n",
       "2019-06-21 10:15:00  137.0000  137.3820  136.9100  137.1950  1103536.0\n",
       "2019-06-21 10:30:00  137.2000  137.2300  136.8000  137.0050   746770.0\n",
       "2019-06-21 10:45:00  137.0100  137.3000  136.9700  137.2400   991115.0\n",
       "2019-06-21 11:00:00  137.2500  137.4700  137.1750  137.1800   850456.0\n",
       "2019-06-21 11:15:00  137.1900  137.7300  137.1750  137.6100  1314272.0\n",
       "2019-06-21 11:30:00  137.6100  137.6300  137.2631  137.3900   542207.0\n",
       "...                       ...       ...       ...       ...        ...\n",
       "2019-06-24 15:15:00  137.8200  137.8868  137.6599  137.7424   398326.0\n",
       "2019-06-24 15:30:00  137.7500  137.8000  137.6300  137.7356   454801.0\n",
       "2019-06-24 15:45:00  137.7400  137.9100  137.7100  137.8850   541803.0\n",
       "2019-06-24 16:00:00  137.8831  138.0000  137.7200  137.8000  1776167.0\n",
       "2019-06-25 09:45:00  137.2500  137.5900  136.5300  136.6550  2277386.0\n",
       "2019-06-25 10:00:00  136.6700  136.7600  136.0600  136.2200  1364295.0\n",
       "2019-06-25 10:15:00  136.2300  136.2800  135.6500  135.8300  1198497.0\n",
       "2019-06-25 10:30:00  135.8250  135.8300  135.3600  135.6000  1738077.0\n",
       "2019-06-25 10:45:00  135.6100  135.7600  135.0700  135.2365  1324215.0\n",
       "2019-06-25 11:00:00  135.2400  135.3300  134.5750  134.6552  1732557.0\n",
       "2019-06-25 11:15:00  134.6600  135.0700  134.4700  135.0472  1086492.0\n",
       "2019-06-25 11:30:00  135.0415  135.2100  134.8500  134.8900   927991.0\n",
       "2019-06-25 11:45:00  134.9000  134.9500  134.6700  134.8923   578196.0\n",
       "2019-06-25 12:00:00  134.8901  134.9100  134.5100  134.5300   590502.0\n",
       "2019-06-25 12:15:00  134.5272  134.7300  134.5200  134.7200   678450.0\n",
       "2019-06-25 12:30:00  134.5800  134.7000  134.4900  134.5400   643064.0\n",
       "2019-06-25 12:45:00  134.5400  134.5800  133.7100  133.8100  1285987.0\n",
       "2019-06-25 13:00:00  133.8100  134.0650  133.7700  133.9400  1039355.0\n",
       "2019-06-25 13:15:00  133.9400  133.9900  133.4000  133.8850  1311494.0\n",
       "2019-06-25 13:30:00  133.8900  133.9432  133.6700  133.9200   759559.0\n",
       "2019-06-25 13:45:00  133.9200  134.2500  133.8500  134.1200   572847.0\n",
       "2019-06-25 14:00:00  134.1200  134.2600  133.8100  133.8350   615094.0\n",
       "2019-06-25 14:15:00  133.8332  133.9100  133.7600  133.8750   578951.0\n",
       "2019-06-25 14:30:00  133.8750  133.8900  133.2200  133.3450   963475.0\n",
       "2019-06-25 14:45:00  133.3400  133.4000  132.7300  132.8300  1267122.0\n",
       "2019-06-25 15:00:00  132.8300  133.3100  132.7900  133.1850   839145.0\n",
       "2019-06-25 15:15:00  133.2000  133.3700  132.9400  132.9901   883871.0\n",
       "2019-06-25 15:30:00  132.9930  133.2900  132.9000  133.1800   959511.0\n",
       "2019-06-25 15:45:00  133.1700  133.5050  133.1600  133.2550  1188757.0\n",
       "2019-06-25 16:00:00  133.2550  133.6300  132.9100  133.4300  3133019.0\n",
       "\n",
       "[100 rows x 5 columns]"
      ]
     },
     "execution_count": 4,
     "metadata": {},
     "output_type": "execute_result"
    }
   ],
   "source": [
    "data"
   ]
  },
  {
   "cell_type": "code",
   "execution_count": 5,
   "metadata": {},
   "outputs": [
    {
     "data": {
      "text/plain": [
       "Index(['1. open', '2. high', '3. low', '4. close', '5. volume'], dtype='object')"
      ]
     },
     "execution_count": 5,
     "metadata": {},
     "output_type": "execute_result"
    }
   ],
   "source": [
    "data.columns"
   ]
  },
  {
   "cell_type": "code",
   "execution_count": 6,
   "metadata": {},
   "outputs": [
    {
     "data": {
      "text/plain": [
       "<matplotlib.axes._subplots.AxesSubplot at 0x1a23226780>"
      ]
     },
     "execution_count": 6,
     "metadata": {},
     "output_type": "execute_result"
    },
    {
     "data": {
      "image/png": "[encoded data removed]",
      "text/plain": [
       "<Figure size 1080x720 with 1 Axes>"
      ]
     },
     "metadata": {},
     "output_type": "display_data"
    }
   ],
   "source": [
    "sns.lineplot(x=data.index, y=data['4. close'])"
   ]
  },
  {
   "cell_type": "code",
   "execution_count": 7,
   "metadata": {},
   "outputs": [
    {
     "data": {
      "image/png": "[encoded data removed]",
      "text/plain": [
       "<Figure size 1080x720 with 1 Axes>"
      ]
     },
     "metadata": {},
     "output_type": "display_data"
    }
   ],
   "source": [
    "from alpha_vantage.timeseries import TimeSeries\n",
    "import matplotlib.pyplot as plt\n",
    "\n",
    "ts = TimeSeries(key='U4XHL332J7SFF57W', output_format='pandas')\n",
    "data, meta_data = ts.get_intraday(symbol='MSFT', outputsize='full')\n",
    "sns.lineplot(x=data.index, y=data['4. close'])\n",
    "plt.title('Intraday Times Series for the MSFT stock (1 min)')\n",
    "plt.show()\n"
   ]
  },
  {
   "cell_type": "code",
   "execution_count": 8,
   "metadata": {},
   "outputs": [
    {
     "data": {
      "image/png": "[encoded data removed]",
      "text/plain": [
       "<Figure size 1080x720 with 1 Axes>"
      ]
     },
     "metadata": {},
     "output_type": "display_data"
    }
   ],
   "source": [
    "from alpha_vantage.techindicators import TechIndicators\n",
    "import matplotlib.pyplot as plt\n",
    "\n",
    "ti = TechIndicators(key='U4XHL332J7SFF57W', output_format='pandas')\n",
    "data, meta_data = ti.get_bbands(symbol='MSFT', interval='60min', time_period=60)\n",
    "data.plot()\n",
    "plt.title('BBbands indicator for  MSFT stock (60 min)')\n",
    "plt.show()"
   ]
  },
  {
   "cell_type": "code",
   "execution_count": null,
   "metadata": {},
   "outputs": [],
   "source": []
  },
  {
   "cell_type": "code",
   "execution_count": null,
   "metadata": {},
   "outputs": [],
   "source": []
  },
  {
   "cell_type": "code",
   "execution_count": null,
   "metadata": {},
   "outputs": [],
   "source": []
  },
  {
   "cell_type": "code",
   "execution_count": null,
   "metadata": {},
   "outputs": [],
   "source": []
  },
  {
   "cell_type": "code",
   "execution_count": null,
   "metadata": {},
   "outputs": [],
   "source": []
  },
  {
   "cell_type": "code",
   "execution_count": null,
   "metadata": {},
   "outputs": [],
   "source": []
  },
  {
   "cell_type": "code",
   "execution_count": null,
   "metadata": {},
   "outputs": [],
   "source": []
  },
  {
   "cell_type": "code",
   "execution_count": null,
   "metadata": {},
   "outputs": [],
   "source": []
  },
  {
   "cell_type": "code",
   "execution_count": null,
   "metadata": {},
   "outputs": [],
   "source": []
  },
  {
   "cell_type": "code",
   "execution_count": null,
   "metadata": {},
   "outputs": [],
   "source": []
  },
  {
   "cell_type": "code",
   "execution_count": 13,
   "metadata": {
    "scrolled": true
   },
   "outputs": [
    {
     "name": "stdout",
     "output_type": "stream",
     "text": [
      "\n",
      "\n",
      "\n",
      "<!DOCTYPE html>\n",
      "<html\n",
      "    xmlns:og=\"http://ogp.me/ns#\"\n",
      "    xmlns:fb=\"http://www.facebook.com/2008/fbml\">\n",
      "    <head>\n",
      "         \n",
      "        <meta charset=\"utf-8\">\n",
      "        <meta http-equiv=\"X-UA-Compatible\" content=\"IE=edge\">\n",
      "\n",
      "    <meta name=\"apple-itunes-app\" content=\"app-id=342792525, app-argument=imdb:///?src=mdot\">\n",
      "\n",
      "\n",
      "\n",
      "        <script type=\"text/javascript\">var IMDbTimer={starttime: new Date().getTime(),pt:'java'};</script>\n",
      "\n",
      "<script>\n",
      "    if (typeof uet == 'function') {\n",
      "      uet(\"bb\", \"LoadTitle\"\n"
     ]
    }
   ],
   "source": [
    "from requests import get # import our library\n",
    "url = 'http://www.imdb.com/search/title?release_date=2017&sort=num_votes,desc&page=1' #website we will be scraping\n",
    "response = get(url) #pull information in the dataframe\n",
    "print(response.text[:500]) #print first 500 characters in the text"
   ]
  },
  {
   "cell_type": "code",
   "execution_count": 14,
   "metadata": {},
   "outputs": [
    {
     "data": {
      "text/plain": [
       "bs4.BeautifulSoup"
      ]
     },
     "execution_count": 14,
     "metadata": {},
     "output_type": "execute_result"
    }
   ],
   "source": [
    "from bs4 import BeautifulSoup #import beautiful soup \n",
    "html_soup = BeautifulSoup(response.text, 'html.parser') #parse text\n",
    "type(html_soup) "
   ]
  },
  {
   "cell_type": "code",
   "execution_count": 15,
   "metadata": {},
   "outputs": [],
   "source": [
    "warning = html_soup.find(class_='sale_capsule app_impression_tracked')\n",
    "#print(len(warning))\n",
    "warning "
   ]
  },
  {
   "cell_type": "code",
   "execution_count": 16,
   "metadata": {},
   "outputs": [
    {
     "name": "stdout",
     "output_type": "stream",
     "text": [
      "<class 'bs4.element.ResultSet'>\n",
      "50\n"
     ]
    }
   ],
   "source": [
    "movie_containers = html_soup.find_all('div', class_ = 'lister-item mode-advanced')\n",
    "print(type(movie_containers))\n",
    "print(len(movie_containers))"
   ]
  },
  {
   "cell_type": "code",
   "execution_count": 17,
   "metadata": {
    "scrolled": true
   },
   "outputs": [],
   "source": [
    "# Lists to store the scraped data in\n",
    "names = []\n",
    "years = []\n",
    "imdb_ratings = []\n",
    "metascores = []\n",
    "votes = []\n",
    "# Extract data from individual movie container\n",
    "for container in movie_containers:\n",
    "# If the movie has Metascore, then extract:\n",
    "    if container.find('div', class_ = 'ratings-metascore') is not None:\n",
    "# The name\n",
    "        name = container.h3.a.text\n",
    "        names.append(name)\n",
    "# The year\n",
    "        year = container.h3.find('span', class_ = 'lister-item-year').text\n",
    "        years.append(year)\n",
    "# The IMDB rating\n",
    "        imdb = float(container.strong.text)\n",
    "        imdb_ratings.append(imdb)\n",
    "# The Metascore\n",
    "        m_score = container.find('span', class_ = 'metascore').text\n",
    "        metascores.append(int(m_score))\n",
    "# The number of votes\n",
    "        vote = container.find('span', attrs = {'name':'nv'})['data-value']\n",
    "        votes.append(int(vote))"
   ]
  },
  {
   "cell_type": "code",
   "execution_count": null,
   "metadata": {},
   "outputs": [],
   "source": []
  },
  {
   "cell_type": "code",
   "execution_count": 67,
   "metadata": {
    "scrolled": true
   },
   "outputs": [
    {
     "data": {
      "text/plain": [
       "[<div class=\"discount_pct\">-25%</div>,\n",
       " <div class=\"discount_pct\">-34%</div>,\n",
       " <div class=\"discount_pct\">-50%</div>,\n",
       " <div class=\"discount_pct\">-50%</div>,\n",
       " <div class=\"discount_pct\">-75%</div>,\n",
       " <div class=\"discount_pct\">-50%</div>,\n",
       " <div class=\"discount_pct\">-20%</div>,\n",
       " <div class=\"discount_pct\">-25%</div>,\n",
       " <div class=\"discount_pct\">-40%</div>,\n",
       " <div class=\"discount_pct\">-10%</div>,\n",
       " <div class=\"discount_pct\">-30%</div>,\n",
       " <div class=\"discount_pct\">-10%</div>,\n",
       " <div class=\"discount_pct\">-34%</div>,\n",
       " <div class=\"discount_pct\">-50%</div>,\n",
       " <div class=\"discount_pct\">-50%</div>,\n",
       " <div class=\"discount_pct\">-50%</div>,\n",
       " <div class=\"discount_pct\">-20%</div>,\n",
       " <div class=\"discount_pct\">-25%</div>,\n",
       " <div class=\"discount_pct\">-50%</div>,\n",
       " <div class=\"discount_pct\">-25%</div>,\n",
       " <div class=\"discount_pct\">-20%</div>,\n",
       " <div class=\"discount_pct\">-20%</div>,\n",
       " <div class=\"discount_pct\">-15%</div>,\n",
       " <div class=\"discount_pct\">-20%</div>,\n",
       " <div class=\"discount_pct\">-10%</div>,\n",
       " <div class=\"discount_pct\">-10%</div>,\n",
       " <div class=\"discount_pct\">-13%</div>,\n",
       " <div class=\"discount_pct\">-20%</div>]"
      ]
     },
     "execution_count": 67,
     "metadata": {},
     "output_type": "execute_result"
    }
   ],
   "source": [
    "prices = html_soup.find_all('div', class_='discount_pct')\n",
    "prices \n",
    "#print(len(warning)) #prints a list of all discounts"
   ]
  },
  {
   "cell_type": "code",
   "execution_count": 68,
   "metadata": {
    "scrolled": true
   },
   "outputs": [
    {
     "data": {
      "text/plain": [
       "[<div class=\"discount_prices\"><div class=\"discount_original_price\">$29.99</div><div class=\"discount_final_price\">$22.49</div></div>,\n",
       " <div class=\"discount_prices\"><div class=\"discount_original_price\">$59.99</div><div class=\"discount_final_price\">$39.59</div></div>,\n",
       " <div class=\"discount_prices\"><div class=\"discount_original_price\">$59.99</div><div class=\"discount_final_price\">$29.99</div></div>,\n",
       " <div class=\"discount_prices\"><div class=\"discount_original_price\">$59.99</div><div class=\"discount_final_price\">$29.99</div></div>,\n",
       " <div class=\"discount_prices\"><div class=\"discount_original_price\">$34.99</div><div class=\"discount_final_price\">$8.74</div></div>,\n",
       " <div class=\"discount_prices\"><div class=\"discount_original_price\">$29.99</div><div class=\"discount_final_price\">$14.99</div></div>,\n",
       " <div class=\"discount_prices\"><div class=\"discount_original_price\">$59.99</div><div class=\"discount_final_price\">$47.99</div></div>,\n",
       " <div class=\"discount_prices\"><div class=\"discount_original_price\">$39.99</div><div class=\"discount_final_price\">$29.99</div></div>,\n",
       " <div class=\"discount_prices\"><div class=\"discount_original_price\">$44.99</div><div class=\"discount_final_price\">$26.99</div></div>,\n",
       " <div class=\"discount_prices\"><div class=\"discount_original_price\">$39.99</div><div class=\"discount_final_price\">$35.99</div></div>,\n",
       " <div class=\"discount_prices\"><div class=\"discount_original_price\">$29.99</div><div class=\"discount_final_price\">$20.99</div></div>,\n",
       " <div class=\"discount_prices\"><div class=\"discount_original_price\">$59.99</div><div class=\"discount_final_price\">$53.99</div></div>,\n",
       " <div class=\"discount_prices\"><div class=\"discount_original_price\">$59.99</div><div class=\"discount_final_price\">$39.59</div></div>,\n",
       " <div class=\"discount_prices\"><div class=\"discount_original_price\">$59.99</div><div class=\"discount_final_price\">$29.99</div></div>,\n",
       " <div class=\"discount_prices\"><div class=\"discount_original_price\">$39.99</div><div class=\"discount_final_price\">$19.99</div></div>,\n",
       " <div class=\"discount_prices\"><div class=\"discount_original_price\">$59.99</div><div class=\"discount_final_price\">$29.99</div></div>,\n",
       " <div class=\"discount_prices\"><div class=\"discount_original_price\">$14.99</div><div class=\"discount_final_price\">$11.99</div></div>,\n",
       " <div class=\"discount_prices\"><div class=\"discount_original_price\">$29.99</div><div class=\"discount_final_price\">$22.49</div></div>,\n",
       " <div class=\"discount_prices\"><div class=\"discount_original_price\">$39.99</div><div class=\"discount_final_price\">$19.99</div></div>,\n",
       " <div class=\"discount_prices\"><div class=\"discount_original_price\">$7.99</div><div class=\"discount_final_price\">$5.99</div></div>,\n",
       " <div class=\"discount_prices\"><div class=\"discount_original_price\">$20.00</div><div class=\"discount_final_price\">$16.00</div></div>,\n",
       " <div class=\"discount_prices\"><div class=\"discount_original_price\">$49.99</div><div class=\"discount_final_price\">$39.99</div></div>,\n",
       " <div class=\"discount_prices\"><div class=\"discount_original_price\">$19.99</div><div class=\"discount_final_price\">$16.99</div></div>,\n",
       " <div class=\"discount_prices\"><div class=\"discount_final_price\">$39.99</div></div>,\n",
       " <div class=\"discount_prices\"><div class=\"discount_original_price\">$2.99</div><div class=\"discount_final_price\">$2.39</div></div>,\n",
       " <div class=\"discount_prices\"><div class=\"discount_original_price\">$29.99</div><div class=\"discount_final_price\">$26.99</div></div>,\n",
       " <div class=\"discount_prices\"><div class=\"discount_original_price\">$39.99</div><div class=\"discount_final_price\">$35.99</div></div>,\n",
       " <div class=\"discount_prices\"><div class=\"discount_final_price\">$59.99</div></div>,\n",
       " <div class=\"discount_prices\"><div class=\"discount_final_price\">$19.99</div></div>,\n",
       " <div class=\"discount_prices\"><div class=\"discount_final_price\">$29.99</div></div>,\n",
       " <div class=\"discount_prices\"><div class=\"discount_final_price\">$1.99</div></div>,\n",
       " <div class=\"discount_prices\"><div class=\"discount_original_price\">$39.99</div><div class=\"discount_final_price\">$34.79</div></div>,\n",
       " <div class=\"discount_prices\"><div class=\"discount_final_price\">$29.99</div></div>,\n",
       " <div class=\"discount_prices\"><div class=\"discount_final_price\">Free To Play</div></div>,\n",
       " <div class=\"discount_prices\"><div class=\"discount_original_price\">$19.99</div><div class=\"discount_final_price\">$15.99</div></div>,\n",
       " <div class=\"discount_prices\"><div class=\"discount_final_price\">$19.99</div></div>,\n",
       " <div class=\"discount_prices\"><div class=\"discount_final_price\">$59.99</div></div>,\n",
       " <div class=\"discount_prices\"><div class=\"discount_final_price\">$499.00</div></div>]"
      ]
     },
     "execution_count": 68,
     "metadata": {},
     "output_type": "execute_result"
    }
   ],
   "source": [
    "html_soup.find_all('div', class_='discount_prices')"
   ]
  },
  {
   "cell_type": "code",
   "execution_count": 69,
   "metadata": {
    "scrolled": true
   },
   "outputs": [
    {
     "data": {
      "text/plain": [
       "<div class=\"discount_pct\">-25%</div>"
      ]
     },
     "execution_count": 69,
     "metadata": {},
     "output_type": "execute_result"
    }
   ],
   "source": [
    "prices[0]"
   ]
  },
  {
   "cell_type": "code",
   "execution_count": 70,
   "metadata": {
    "scrolled": true
   },
   "outputs": [
    {
     "data": {
      "text/plain": [
       "'-25%'"
      ]
     },
     "execution_count": 70,
     "metadata": {},
     "output_type": "execute_result"
    }
   ],
   "source": [
    "prices[0].text"
   ]
  },
  {
   "cell_type": "code",
   "execution_count": 71,
   "metadata": {
    "scrolled": true
   },
   "outputs": [
    {
     "name": "stdout",
     "output_type": "stream",
     "text": [
      "f2p\n"
     ]
    }
   ],
   "source": [
    "prices = html_soup.find_all('div', class_='discount_prices')\n",
    "#warning.text\n",
    "reg_price=[] # initializes list\n",
    "disc_price=[]\n",
    "for i in prices: #loop through prices\n",
    "    i = i.text\n",
    "    #print(i[:6])\n",
    "    reg_price.append(i[:6]) #append the regular price to list\n",
    "    if len(i)<=6: #if there isn't a second value, thre is no discount\n",
    "        disc_price.append('No Discount')\n",
    "    elif i == ('Free To Play'): #if it is free to play, we will write that in\n",
    "        disc_price.append('f2p')\n",
    "        print('f2p')\n",
    "    else:\n",
    "        disc_price.append(i[6:]) #just impute the last few digits if neither are true"
   ]
  },
  {
   "cell_type": "code",
   "execution_count": 73,
   "metadata": {},
   "outputs": [
    {
     "data": {
      "text/plain": [
       "['$22.49',\n",
       " '$39.59',\n",
       " '$29.99',\n",
       " '$29.99',\n",
       " '$8.74',\n",
       " '$14.99',\n",
       " '$47.99',\n",
       " '$29.99',\n",
       " '$26.99',\n",
       " '$35.99',\n",
       " '$20.99',\n",
       " '$53.99',\n",
       " '$39.59',\n",
       " '$29.99',\n",
       " '$19.99',\n",
       " '$29.99',\n",
       " '$11.99',\n",
       " '$22.49',\n",
       " '$19.99',\n",
       " '5.99',\n",
       " '$16.00',\n",
       " '$39.99',\n",
       " '$16.99',\n",
       " 'No Discount',\n",
       " '2.39',\n",
       " '$26.99',\n",
       " '$35.99',\n",
       " 'No Discount',\n",
       " 'No Discount',\n",
       " 'No Discount',\n",
       " 'No Discount',\n",
       " '$34.79',\n",
       " 'No Discount',\n",
       " 'f2p',\n",
       " '$15.99',\n",
       " 'No Discount',\n",
       " 'No Discount',\n",
       " '0']"
      ]
     },
     "execution_count": 73,
     "metadata": {},
     "output_type": "execute_result"
    }
   ],
   "source": [
    "disc_price"
   ]
  },
  {
   "cell_type": "code",
   "execution_count": 74,
   "metadata": {
    "scrolled": false
   },
   "outputs": [
    {
     "data": {
      "text/plain": [
       "38"
      ]
     },
     "execution_count": 74,
     "metadata": {},
     "output_type": "execute_result"
    }
   ],
   "source": [
    "len(reg_price)"
   ]
  },
  {
   "cell_type": "code",
   "execution_count": 75,
   "metadata": {},
   "outputs": [
    {
     "data": {
      "text/plain": [
       "38"
      ]
     },
     "execution_count": 75,
     "metadata": {},
     "output_type": "execute_result"
    }
   ],
   "source": [
    "len(disc_price)"
   ]
  },
  {
   "cell_type": "code",
   "execution_count": 76,
   "metadata": {
    "scrolled": true
   },
   "outputs": [
    {
     "data": {
      "text/plain": [
       "['$22.49',\n",
       " '$39.59',\n",
       " '$29.99',\n",
       " '$29.99',\n",
       " '$8.74',\n",
       " '$14.99',\n",
       " '$47.99',\n",
       " '$29.99',\n",
       " '$26.99',\n",
       " '$35.99',\n",
       " '$20.99',\n",
       " '$53.99',\n",
       " '$39.59',\n",
       " '$29.99',\n",
       " '$19.99',\n",
       " '$29.99',\n",
       " '$11.99',\n",
       " '$22.49',\n",
       " '$19.99',\n",
       " '5.99',\n",
       " '$16.00',\n",
       " '$39.99',\n",
       " '$16.99',\n",
       " 'No Discount',\n",
       " '2.39',\n",
       " '$26.99',\n",
       " '$35.99',\n",
       " 'No Discount',\n",
       " 'No Discount',\n",
       " 'No Discount',\n",
       " 'No Discount',\n",
       " '$34.79',\n",
       " 'No Discount',\n",
       " 'f2p',\n",
       " '$15.99',\n",
       " 'No Discount',\n",
       " 'No Discount',\n",
       " '0']"
      ]
     },
     "execution_count": 76,
     "metadata": {},
     "output_type": "execute_result"
    }
   ],
   "source": [
    "disc_price"
   ]
  },
  {
   "cell_type": "code",
   "execution_count": 77,
   "metadata": {
    "scrolled": true
   },
   "outputs": [
    {
     "data": {
      "text/plain": [
       "38"
      ]
     },
     "execution_count": 77,
     "metadata": {},
     "output_type": "execute_result"
    }
   ],
   "source": [
    "len(reg_price)"
   ]
  },
  {
   "cell_type": "code",
   "execution_count": 78,
   "metadata": {},
   "outputs": [],
   "source": [
    "name_list = [] #loop essentially does the same but for the names \n",
    "names = html_soup.find_all('div', class_='tab_item_name')\n",
    "for i in names:\n",
    "    print(i.text)\n",
    "    name_list.append(i.text)"
   ]
  },
  {
   "cell_type": "code",
   "execution_count": 79,
   "metadata": {},
   "outputs": [
    {
     "data": {
      "text/plain": [
       "0"
      ]
     },
     "execution_count": 79,
     "metadata": {},
     "output_type": "execute_result"
    }
   ],
   "source": [
    "len(name_list)"
   ]
  },
  {
   "cell_type": "code",
   "execution_count": 57,
   "metadata": {},
   "outputs": [],
   "source": [
    "item_details = [] #places item details in a list\n",
    "items = html_soup.find_all('div', class_='tab_item_details')\n",
    "for i in items:\n",
    "    print(i.text)\n",
    "    item_details.append(i.text)"
   ]
  },
  {
   "cell_type": "code",
   "execution_count": 58,
   "metadata": {},
   "outputs": [
    {
     "data": {
      "text/plain": [
       "0"
      ]
     },
     "execution_count": 58,
     "metadata": {},
     "output_type": "execute_result"
    }
   ],
   "source": [
    "len(item_details)"
   ]
  },
  {
   "cell_type": "code",
   "execution_count": 59,
   "metadata": {},
   "outputs": [
    {
     "ename": "ValueError",
     "evalue": "arrays must all be same length",
     "output_type": "error",
     "traceback": [
      "\u001b[0;31m---------------------------------------------------------------------------\u001b[0m",
      "\u001b[0;31mValueError\u001b[0m                                Traceback (most recent call last)",
      "\u001b[0;32m<ipython-input-59-a428d633b51f>\u001b[0m in \u001b[0;36m<module>\u001b[0;34m\u001b[0m\n\u001b[1;32m      3\u001b[0m \u001b[0;34m'item_details'\u001b[0m\u001b[0;34m:\u001b[0m \u001b[0mitem_details\u001b[0m\u001b[0;34m[\u001b[0m\u001b[0;34m:\u001b[0m\u001b[0mlen\u001b[0m\u001b[0;34m(\u001b[0m\u001b[0mreg_price\u001b[0m\u001b[0;34m)\u001b[0m\u001b[0;34m]\u001b[0m\u001b[0;34m,\u001b[0m\u001b[0;34m\u001b[0m\u001b[0;34m\u001b[0m\u001b[0m\n\u001b[1;32m      4\u001b[0m \u001b[0;34m'reg'\u001b[0m\u001b[0;34m:\u001b[0m \u001b[0mreg_price\u001b[0m\u001b[0;34m,\u001b[0m\u001b[0;34m\u001b[0m\u001b[0;34m\u001b[0m\u001b[0m\n\u001b[0;32m----> 5\u001b[0;31m \u001b[0;34m'discount price'\u001b[0m\u001b[0;34m:\u001b[0m \u001b[0mdisc_price\u001b[0m\u001b[0;34m\u001b[0m\u001b[0;34m\u001b[0m\u001b[0m\n\u001b[0m\u001b[1;32m      6\u001b[0m })\n",
      "\u001b[0;32m/anaconda3/lib/python3.7/site-packages/pandas/core/frame.py\u001b[0m in \u001b[0;36m__init__\u001b[0;34m(self, data, index, columns, dtype, copy)\u001b[0m\n\u001b[1;32m    390\u001b[0m                                  dtype=dtype, copy=copy)\n\u001b[1;32m    391\u001b[0m         \u001b[0;32melif\u001b[0m \u001b[0misinstance\u001b[0m\u001b[0;34m(\u001b[0m\u001b[0mdata\u001b[0m\u001b[0;34m,\u001b[0m \u001b[0mdict\u001b[0m\u001b[0;34m)\u001b[0m\u001b[0;34m:\u001b[0m\u001b[0;34m\u001b[0m\u001b[0;34m\u001b[0m\u001b[0m\n\u001b[0;32m--> 392\u001b[0;31m             \u001b[0mmgr\u001b[0m \u001b[0;34m=\u001b[0m \u001b[0minit_dict\u001b[0m\u001b[0;34m(\u001b[0m\u001b[0mdata\u001b[0m\u001b[0;34m,\u001b[0m \u001b[0mindex\u001b[0m\u001b[0;34m,\u001b[0m \u001b[0mcolumns\u001b[0m\u001b[0;34m,\u001b[0m \u001b[0mdtype\u001b[0m\u001b[0;34m=\u001b[0m\u001b[0mdtype\u001b[0m\u001b[0;34m)\u001b[0m\u001b[0;34m\u001b[0m\u001b[0;34m\u001b[0m\u001b[0m\n\u001b[0m\u001b[1;32m    393\u001b[0m         \u001b[0;32melif\u001b[0m \u001b[0misinstance\u001b[0m\u001b[0;34m(\u001b[0m\u001b[0mdata\u001b[0m\u001b[0;34m,\u001b[0m \u001b[0mma\u001b[0m\u001b[0;34m.\u001b[0m\u001b[0mMaskedArray\u001b[0m\u001b[0;34m)\u001b[0m\u001b[0;34m:\u001b[0m\u001b[0;34m\u001b[0m\u001b[0;34m\u001b[0m\u001b[0m\n\u001b[1;32m    394\u001b[0m             \u001b[0;32mimport\u001b[0m \u001b[0mnumpy\u001b[0m\u001b[0;34m.\u001b[0m\u001b[0mma\u001b[0m\u001b[0;34m.\u001b[0m\u001b[0mmrecords\u001b[0m \u001b[0;32mas\u001b[0m \u001b[0mmrecords\u001b[0m\u001b[0;34m\u001b[0m\u001b[0;34m\u001b[0m\u001b[0m\n",
      "\u001b[0;32m/anaconda3/lib/python3.7/site-packages/pandas/core/internals/construction.py\u001b[0m in \u001b[0;36minit_dict\u001b[0;34m(data, index, columns, dtype)\u001b[0m\n\u001b[1;32m    210\u001b[0m         \u001b[0marrays\u001b[0m \u001b[0;34m=\u001b[0m \u001b[0;34m[\u001b[0m\u001b[0mdata\u001b[0m\u001b[0;34m[\u001b[0m\u001b[0mk\u001b[0m\u001b[0;34m]\u001b[0m \u001b[0;32mfor\u001b[0m \u001b[0mk\u001b[0m \u001b[0;32min\u001b[0m \u001b[0mkeys\u001b[0m\u001b[0;34m]\u001b[0m\u001b[0;34m\u001b[0m\u001b[0;34m\u001b[0m\u001b[0m\n\u001b[1;32m    211\u001b[0m \u001b[0;34m\u001b[0m\u001b[0m\n\u001b[0;32m--> 212\u001b[0;31m     \u001b[0;32mreturn\u001b[0m \u001b[0marrays_to_mgr\u001b[0m\u001b[0;34m(\u001b[0m\u001b[0marrays\u001b[0m\u001b[0;34m,\u001b[0m \u001b[0mdata_names\u001b[0m\u001b[0;34m,\u001b[0m \u001b[0mindex\u001b[0m\u001b[0;34m,\u001b[0m \u001b[0mcolumns\u001b[0m\u001b[0;34m,\u001b[0m \u001b[0mdtype\u001b[0m\u001b[0;34m=\u001b[0m\u001b[0mdtype\u001b[0m\u001b[0;34m)\u001b[0m\u001b[0;34m\u001b[0m\u001b[0;34m\u001b[0m\u001b[0m\n\u001b[0m\u001b[1;32m    213\u001b[0m \u001b[0;34m\u001b[0m\u001b[0m\n\u001b[1;32m    214\u001b[0m \u001b[0;34m\u001b[0m\u001b[0m\n",
      "\u001b[0;32m/anaconda3/lib/python3.7/site-packages/pandas/core/internals/construction.py\u001b[0m in \u001b[0;36marrays_to_mgr\u001b[0;34m(arrays, arr_names, index, columns, dtype)\u001b[0m\n\u001b[1;32m     49\u001b[0m     \u001b[0;31m# figure out the index, if necessary\u001b[0m\u001b[0;34m\u001b[0m\u001b[0;34m\u001b[0m\u001b[0;34m\u001b[0m\u001b[0m\n\u001b[1;32m     50\u001b[0m     \u001b[0;32mif\u001b[0m \u001b[0mindex\u001b[0m \u001b[0;32mis\u001b[0m \u001b[0;32mNone\u001b[0m\u001b[0;34m:\u001b[0m\u001b[0;34m\u001b[0m\u001b[0;34m\u001b[0m\u001b[0m\n\u001b[0;32m---> 51\u001b[0;31m         \u001b[0mindex\u001b[0m \u001b[0;34m=\u001b[0m \u001b[0mextract_index\u001b[0m\u001b[0;34m(\u001b[0m\u001b[0marrays\u001b[0m\u001b[0;34m)\u001b[0m\u001b[0;34m\u001b[0m\u001b[0;34m\u001b[0m\u001b[0m\n\u001b[0m\u001b[1;32m     52\u001b[0m     \u001b[0;32melse\u001b[0m\u001b[0;34m:\u001b[0m\u001b[0;34m\u001b[0m\u001b[0;34m\u001b[0m\u001b[0m\n\u001b[1;32m     53\u001b[0m         \u001b[0mindex\u001b[0m \u001b[0;34m=\u001b[0m \u001b[0mensure_index\u001b[0m\u001b[0;34m(\u001b[0m\u001b[0mindex\u001b[0m\u001b[0;34m)\u001b[0m\u001b[0;34m\u001b[0m\u001b[0;34m\u001b[0m\u001b[0m\n",
      "\u001b[0;32m/anaconda3/lib/python3.7/site-packages/pandas/core/internals/construction.py\u001b[0m in \u001b[0;36mextract_index\u001b[0;34m(data)\u001b[0m\n\u001b[1;32m    315\u001b[0m             \u001b[0mlengths\u001b[0m \u001b[0;34m=\u001b[0m \u001b[0mlist\u001b[0m\u001b[0;34m(\u001b[0m\u001b[0mset\u001b[0m\u001b[0;34m(\u001b[0m\u001b[0mraw_lengths\u001b[0m\u001b[0;34m)\u001b[0m\u001b[0;34m)\u001b[0m\u001b[0;34m\u001b[0m\u001b[0;34m\u001b[0m\u001b[0m\n\u001b[1;32m    316\u001b[0m             \u001b[0;32mif\u001b[0m \u001b[0mlen\u001b[0m\u001b[0;34m(\u001b[0m\u001b[0mlengths\u001b[0m\u001b[0;34m)\u001b[0m \u001b[0;34m>\u001b[0m \u001b[0;36m1\u001b[0m\u001b[0;34m:\u001b[0m\u001b[0;34m\u001b[0m\u001b[0;34m\u001b[0m\u001b[0m\n\u001b[0;32m--> 317\u001b[0;31m                 \u001b[0;32mraise\u001b[0m \u001b[0mValueError\u001b[0m\u001b[0;34m(\u001b[0m\u001b[0;34m'arrays must all be same length'\u001b[0m\u001b[0;34m)\u001b[0m\u001b[0;34m\u001b[0m\u001b[0;34m\u001b[0m\u001b[0m\n\u001b[0m\u001b[1;32m    318\u001b[0m \u001b[0;34m\u001b[0m\u001b[0m\n\u001b[1;32m    319\u001b[0m             \u001b[0;32mif\u001b[0m \u001b[0mhave_dicts\u001b[0m\u001b[0;34m:\u001b[0m\u001b[0;34m\u001b[0m\u001b[0;34m\u001b[0m\u001b[0m\n",
      "\u001b[0;31mValueError\u001b[0m: arrays must all be same length"
     ]
    }
   ],
   "source": [
    "import pandas as pd #makes a dataframe \n",
    "test_df = pd.DataFrame({'Game': name_list[:len(reg_price)],\n",
    "'item_details': item_details[:len(reg_price)],\n",
    "'reg': reg_price,\n",
    "'discount price': disc_price\n",
    "})"
   ]
  },
  {
   "cell_type": "code",
   "execution_count": 60,
   "metadata": {},
   "outputs": [
    {
     "data": {
      "text/plain": [
       "0"
      ]
     },
     "execution_count": 60,
     "metadata": {},
     "output_type": "execute_result"
    }
   ],
   "source": [
    "len(item_details[:98])"
   ]
  },
  {
   "cell_type": "code",
   "execution_count": 61,
   "metadata": {
    "scrolled": true
   },
   "outputs": [
    {
     "ename": "NameError",
     "evalue": "name 'test_df' is not defined",
     "output_type": "error",
     "traceback": [
      "\u001b[0;31m---------------------------------------------------------------------------\u001b[0m",
      "\u001b[0;31mNameError\u001b[0m                                 Traceback (most recent call last)",
      "\u001b[0;32m<ipython-input-61-0dcdcb22809f>\u001b[0m in \u001b[0;36m<module>\u001b[0;34m\u001b[0m\n\u001b[0;32m----> 1\u001b[0;31m \u001b[0mtest_df\u001b[0m\u001b[0;34m\u001b[0m\u001b[0;34m\u001b[0m\u001b[0m\n\u001b[0m",
      "\u001b[0;31mNameError\u001b[0m: name 'test_df' is not defined"
     ]
    }
   ],
   "source": [
    "test_df"
   ]
  },
  {
   "cell_type": "markdown",
   "metadata": {},
   "source": [
    "Additional Resources: \n",
    "https://www.dataquest.io/blog/web-scraping-beautifulsoup/\n",
    "\n",
    "https://www.geeksforgeeks.org/implementing-web-scraping-python-beautiful-soup/\n",
    "\n",
    "https://www.youtube.com/watch?v=ng2o98k983k"
   ]
  },
  {
   "cell_type": "code",
   "execution_count": null,
   "metadata": {},
   "outputs": [],
   "source": []
  }
 ],
 "metadata": {
  "kernelspec": {
   "display_name": "Python 3",
   "language": "python",
   "name": "python3"
  },
  "language_info": {
   "codemirror_mode": {
    "name": "ipython",
    "version": 3
   },
   "file_extension": ".py",
   "mimetype": "text/x-python",
   "name": "python",
   "nbconvert_exporter": "python",
   "pygments_lexer": "ipython3",
   "version": "3.7.3"
  }
 },
 "nbformat": 4,
 "nbformat_minor": 2
}
